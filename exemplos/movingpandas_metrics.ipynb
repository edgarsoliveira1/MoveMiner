{
 "cells": [
  {
   "cell_type": "markdown",
   "metadata": {},
   "source": [
    "### Setup"
   ]
  },
  {
   "cell_type": "code",
   "execution_count": 1,
   "metadata": {},
   "outputs": [
    {
     "name": "stderr",
     "output_type": "stream",
     "text": [
      "c:\\Users\\edgar\\anaconda3\\envs\\movingpandas\\lib\\site-packages\\movingpandas\\__init__.py:37: UserWarning: Missing optional dependencies. To use the trajectory smoother classes please install Stone Soup (see https://stonesoup.readthedocs.io/en/latest/#installation).\n",
      "  warnings.warn(e.msg, UserWarning)\n"
     ]
    }
   ],
   "source": [
    "import datetime\n",
    "\n",
    "import dask.dataframe as dd\n",
    "import geopandas as gpd\n",
    "import matplotlib.pyplot as plt\n",
    "import movingpandas as mpd\n",
    "import pandas as pd"
   ]
  },
  {
   "cell_type": "code",
   "execution_count": 2,
   "metadata": {},
   "outputs": [],
   "source": [
    "def load_InTAS(path: str) -> pd.DataFrame:\n",
    "    intas = dd.read_csv(\n",
    "        path,\n",
    "        sep=\";\",\n",
    "        usecols=[\n",
    "            \"timestep_time\",\n",
    "            \"vehicle_id\",\n",
    "            \"vehicle_x\",\n",
    "            \"vehicle_y\",\n",
    "            \"person_id\",\n",
    "            \"person_x\",\n",
    "            \"person_y\",\n",
    "        ],\n",
    "    )\n",
    "    intas['trajectory_id'] = intas[\"vehicle_id\"].fillna(intas[\"person_id\"])\n",
    "    intas['x'] = intas[\"vehicle_x\"].fillna(intas[\"person_x\"])\n",
    "    intas['y'] = intas[\"vehicle_y\"].fillna(intas[\"person_y\"])\n",
    "    InTAS_datetime = datetime.datetime(2019, 11, 1)\n",
    "    intas[\"t\"] = dd.to_datetime(\n",
    "        intas[\"timestep_time\"],\n",
    "        unit=\"s\",\n",
    "        origin=InTAS_datetime,\n",
    "    )\n",
    "    intas = intas.drop(columns=[\n",
    "        'vehicle_id',\n",
    "        'vehicle_x',\n",
    "        'vehicle_y',\n",
    "        'person_id',\n",
    "        'person_x',\n",
    "        'person_y',\n",
    "    ])\n",
    "\n",
    "    return intas.compute()"
   ]
  },
  {
   "cell_type": "code",
   "execution_count": 3,
   "metadata": {},
   "outputs": [],
   "source": [
    "def hist_plot(data1, data2, title1, title2, xlabel, ylabel):\n",
    "    fig, axes = plt.subplots(nrows=1, ncols=2, figsize=(12, 5))\n",
    "\n",
    "    # Plotar o primeiro histograma no primeiro subplot\n",
    "    axes[0].hist(data1, bins=30, color='blue', alpha=0.7)\n",
    "    axes[0].set_title(title1)\n",
    "    axes[0].set_xlabel(xlabel)\n",
    "    axes[0].set_ylabel(ylabel)\n",
    "\n",
    "    # Plotar o segundo histograma no segundo subplot\n",
    "    axes[1].hist(data2, bins=30, color='green', alpha=0.7)\n",
    "    axes[1].set_title(title2)\n",
    "    axes[1].set_xlabel(xlabel)\n",
    "    axes[1].set_ylabel(ylabel)\n",
    "\n",
    "    # Ajustar o layout para evitar sobreposição\n",
    "    plt.tight_layout()\n",
    "\n",
    "    # Mostrar os plots\n",
    "    plt.show()"
   ]
  },
  {
   "cell_type": "code",
   "execution_count": 4,
   "metadata": {},
   "outputs": [],
   "source": [
    "intas_title1 = \"InTAS (6-10 horas)\"\n",
    "df1 = load_InTAS(\"./datasets/6_as_10hrs/fcd.csv\")\n",
    "intas1 = mpd.TrajectoryCollection(\n",
    "    df1,\n",
    "    \"trajectory_id\",\n",
    "    x=\"x\",\n",
    "    y=\"y\",\n",
    "    t=\"t\",\n",
    ")"
   ]
  },
  {
   "cell_type": "code",
   "execution_count": 5,
   "metadata": {},
   "outputs": [],
   "source": [
    "intas_title2 = \"InTAS (15-19 horas)\"\n",
    "df2 = load_InTAS(\"./datasets/15_as_19hrs/fcd.csv\")\n",
    "intas2 = mpd.TrajectoryCollection(\n",
    "    df2,\n",
    "    \"trajectory_id\",\n",
    "    x=\"x\",\n",
    "    y=\"y\",\n",
    "    t=\"t\",\n",
    ")"
   ]
  },
  {
   "cell_type": "markdown",
   "metadata": {},
   "source": [
    "### Waiting Times (Point-to-Point)"
   ]
  },
  {
   "cell_type": "code",
   "execution_count": 6,
   "metadata": {},
   "outputs": [
    {
     "name": "stdout",
     "output_type": "stream",
     "text": [
      "Wall time: 2min 5s\n"
     ]
    },
    {
     "data": {
      "text/plain": [
       "TrajectoryCollection with 26407 trajectories"
      ]
     },
     "execution_count": 6,
     "metadata": {},
     "output_type": "execute_result"
    }
   ],
   "source": [
    "%%time\n",
    "intas1.add_timedelta()\n",
    "intas2.add_timedelta()"
   ]
  },
  {
   "cell_type": "markdown",
   "metadata": {},
   "source": [
    "### Distance (Point-to-Point)"
   ]
  },
  {
   "cell_type": "code",
   "execution_count": 7,
   "metadata": {},
   "outputs": [
    {
     "name": "stdout",
     "output_type": "stream",
     "text": [
      "Wall time: 41min 6s\n"
     ]
    },
    {
     "data": {
      "text/plain": [
       "TrajectoryCollection with 26407 trajectories"
      ]
     },
     "execution_count": 7,
     "metadata": {},
     "output_type": "execute_result"
    }
   ],
   "source": [
    "%%time\n",
    "intas1.add_distance()\n",
    "intas2.add_distance()"
   ]
  },
  {
   "cell_type": "markdown",
   "metadata": {},
   "source": [
    "### Speed (Point-to-Point)"
   ]
  },
  {
   "cell_type": "code",
   "execution_count": 8,
   "metadata": {},
   "outputs": [
    {
     "name": "stdout",
     "output_type": "stream",
     "text": [
      "Wall time: 44min 32s\n"
     ]
    },
    {
     "data": {
      "text/plain": [
       "TrajectoryCollection with 26407 trajectories"
      ]
     },
     "execution_count": 8,
     "metadata": {},
     "output_type": "execute_result"
    }
   ],
   "source": [
    "%%time\n",
    "intas1.add_speed()\n",
    "intas2.add_speed()"
   ]
  },
  {
   "cell_type": "markdown",
   "metadata": {},
   "source": [
    "### Turning Angle (Point-to-Point)"
   ]
  },
  {
   "cell_type": "code",
   "execution_count": 9,
   "metadata": {},
   "outputs": [
    {
     "name": "stdout",
     "output_type": "stream",
     "text": [
      "Wall time: 22min 6s\n"
     ]
    },
    {
     "data": {
      "text/plain": [
       "TrajectoryCollection with 26407 trajectories"
      ]
     },
     "execution_count": 9,
     "metadata": {},
     "output_type": "execute_result"
    }
   ],
   "source": [
    "%%time\n",
    "intas1.add_direction()\n",
    "intas2.add_direction()"
   ]
  },
  {
   "cell_type": "markdown",
   "metadata": {},
   "source": [
    "### Compression"
   ]
  },
  {
   "cell_type": "code",
   "execution_count": 10,
   "metadata": {},
   "outputs": [
    {
     "name": "stdout",
     "output_type": "stream",
     "text": [
      "Wall time: 49min 44s\n"
     ]
    }
   ],
   "source": [
    "%%time\n",
    "generalized1 = mpd.MinDistanceGeneralizer(intas1).generalize(tolerance=100)\n",
    "generalized2 = mpd.MinDistanceGeneralizer(intas2).generalize(tolerance=100)"
   ]
  },
  {
   "cell_type": "markdown",
   "metadata": {},
   "source": [
    "### Clustering"
   ]
  },
  {
   "cell_type": "code",
   "execution_count": 20,
   "metadata": {},
   "outputs": [
    {
     "name": "stderr",
     "output_type": "stream",
     "text": [
      "c:\\Users\\edgar\\anaconda3\\envs\\movingpandas\\lib\\site-packages\\pandas\\core\\dtypes\\cast.py:118: ShapelyDeprecationWarning: The array interface is deprecated and will no longer work in Shapely 2.0. Convert the '.coords' to a numpy array instead.\n",
      "  arr = construct_1d_object_array_from_listlike(values)\n"
     ]
    },
    {
     "ename": "AttributeError",
     "evalue": "module 'statistics' has no attribute 'fmean'",
     "output_type": "error",
     "traceback": [
      "\u001b[1;31m---------------------------------------------------------------------------\u001b[0m",
      "\u001b[1;31mAttributeError\u001b[0m                            Traceback (most recent call last)",
      "\u001b[1;32m<timed exec>\u001b[0m in \u001b[0;36m<module>\u001b[1;34m\u001b[0m\n",
      "\u001b[1;32mc:\\Users\\edgar\\anaconda3\\envs\\movingpandas\\lib\\site-packages\\movingpandas\\trajectory_aggregator.py\u001b[0m in \u001b[0;36m__init__\u001b[1;34m(self, traj_collection, max_distance, min_distance, min_stop_duration, min_angle)\u001b[0m\n\u001b[0;32m     64\u001b[0m         \u001b[1;31m# print('Clustering significant points ...')\u001b[0m\u001b[1;33m\u001b[0m\u001b[1;33m\u001b[0m\u001b[1;33m\u001b[0m\u001b[0m\n\u001b[0;32m     65\u001b[0m         self.clusters = PointClusterer(\n\u001b[1;32m---> 66\u001b[1;33m             \u001b[0mself\u001b[0m\u001b[1;33m.\u001b[0m\u001b[0msignificant_points\u001b[0m\u001b[1;33m,\u001b[0m \u001b[0mself\u001b[0m\u001b[1;33m.\u001b[0m\u001b[0mmax_distance\u001b[0m\u001b[1;33m,\u001b[0m \u001b[0mself\u001b[0m\u001b[1;33m.\u001b[0m\u001b[0mis_latlon\u001b[0m\u001b[1;33m\u001b[0m\u001b[1;33m\u001b[0m\u001b[0m\n\u001b[0m\u001b[0;32m     67\u001b[0m         ).get_clusters()\n\u001b[0;32m     68\u001b[0m         \u001b[1;31m# print('  No. clusters: {}'.format(len(self.clusters)))\u001b[0m\u001b[1;33m\u001b[0m\u001b[1;33m\u001b[0m\u001b[1;33m\u001b[0m\u001b[0m\n",
      "\u001b[1;32mc:\\Users\\edgar\\anaconda3\\envs\\movingpandas\\lib\\site-packages\\movingpandas\\point_clusterer.py\u001b[0m in \u001b[0;36m__init__\u001b[1;34m(self, points, max_distance, is_latlon)\u001b[0m\n\u001b[0;32m     28\u001b[0m             \u001b[0mcell_size\u001b[0m \u001b[1;33m=\u001b[0m \u001b[0mcell_size\u001b[0m \u001b[1;33m/\u001b[0m \u001b[0mC_EARTH\u001b[0m \u001b[1;33m*\u001b[0m \u001b[1;36m360\u001b[0m\u001b[1;33m\u001b[0m\u001b[1;33m\u001b[0m\u001b[0m\n\u001b[0;32m     29\u001b[0m         \u001b[0mself\u001b[0m\u001b[1;33m.\u001b[0m\u001b[0mgrid\u001b[0m \u001b[1;33m=\u001b[0m \u001b[0m_Grid\u001b[0m\u001b[1;33m(\u001b[0m\u001b[0mbbox\u001b[0m\u001b[1;33m,\u001b[0m \u001b[0mcell_size\u001b[0m\u001b[1;33m)\u001b[0m\u001b[1;33m\u001b[0m\u001b[1;33m\u001b[0m\u001b[0m\n\u001b[1;32m---> 30\u001b[1;33m         \u001b[0mself\u001b[0m\u001b[1;33m.\u001b[0m\u001b[0mgrid\u001b[0m\u001b[1;33m.\u001b[0m\u001b[0minsert_points\u001b[0m\u001b[1;33m(\u001b[0m\u001b[0mpoints\u001b[0m\u001b[1;33m)\u001b[0m\u001b[1;33m\u001b[0m\u001b[1;33m\u001b[0m\u001b[0m\n\u001b[0m\u001b[0;32m     31\u001b[0m         \u001b[0mself\u001b[0m\u001b[1;33m.\u001b[0m\u001b[0mgrid\u001b[0m\u001b[1;33m.\u001b[0m\u001b[0mredistribute_points\u001b[0m\u001b[1;33m(\u001b[0m\u001b[0mpoints\u001b[0m\u001b[1;33m)\u001b[0m\u001b[1;33m\u001b[0m\u001b[1;33m\u001b[0m\u001b[0m\n\u001b[0;32m     32\u001b[0m \u001b[1;33m\u001b[0m\u001b[0m\n",
      "\u001b[1;32mc:\\Users\\edgar\\anaconda3\\envs\\movingpandas\\lib\\site-packages\\movingpandas\\point_clusterer.py\u001b[0m in \u001b[0;36minsert_points\u001b[1;34m(self, points)\u001b[0m\n\u001b[0;32m     80\u001b[0m                 \u001b[1;32mif\u001b[0m \u001b[0mg\u001b[0m\u001b[1;33m:\u001b[0m\u001b[1;33m\u001b[0m\u001b[1;33m\u001b[0m\u001b[0m\n\u001b[0;32m     81\u001b[0m                     \u001b[0mg\u001b[0m\u001b[1;33m.\u001b[0m\u001b[0madd_point\u001b[0m\u001b[1;33m(\u001b[0m\u001b[0mpt\u001b[0m\u001b[1;33m)\u001b[0m\u001b[1;33m\u001b[0m\u001b[1;33m\u001b[0m\u001b[0m\n\u001b[1;32m---> 82\u001b[1;33m                     \u001b[0mg\u001b[0m\u001b[1;33m.\u001b[0m\u001b[0mrecompute_centroid\u001b[0m\u001b[1;33m(\u001b[0m\u001b[1;33m)\u001b[0m\u001b[1;33m\u001b[0m\u001b[1;33m\u001b[0m\u001b[0m\n\u001b[0m\u001b[0;32m     83\u001b[0m                 \u001b[1;32melse\u001b[0m\u001b[1;33m:\u001b[0m\u001b[1;33m\u001b[0m\u001b[1;33m\u001b[0m\u001b[0m\n\u001b[0;32m     84\u001b[0m                     \u001b[0mprint\u001b[0m\u001b[1;33m(\u001b[0m\u001b[1;34mf\"Error: no group in cell {i}, {j}\"\u001b[0m\u001b[1;33m)\u001b[0m\u001b[1;33m\u001b[0m\u001b[1;33m\u001b[0m\u001b[0m\n",
      "\u001b[1;32mc:\\Users\\edgar\\anaconda3\\envs\\movingpandas\\lib\\site-packages\\movingpandas\\point_clusterer.py\u001b[0m in \u001b[0;36mrecompute_centroid\u001b[1;34m(self)\u001b[0m\n\u001b[0;32m     47\u001b[0m \u001b[1;33m\u001b[0m\u001b[0m\n\u001b[0;32m     48\u001b[0m     \u001b[1;32mdef\u001b[0m \u001b[0mrecompute_centroid\u001b[0m\u001b[1;33m(\u001b[0m\u001b[0mself\u001b[0m\u001b[1;33m)\u001b[0m\u001b[1;33m:\u001b[0m\u001b[1;33m\u001b[0m\u001b[1;33m\u001b[0m\u001b[0m\n\u001b[1;32m---> 49\u001b[1;33m         \u001b[0mx\u001b[0m \u001b[1;33m=\u001b[0m \u001b[0mstatistics\u001b[0m\u001b[1;33m.\u001b[0m\u001b[0mfmean\u001b[0m\u001b[1;33m(\u001b[0m\u001b[0mpt\u001b[0m\u001b[1;33m.\u001b[0m\u001b[0mx\u001b[0m \u001b[1;32mfor\u001b[0m \u001b[0mpt\u001b[0m \u001b[1;32min\u001b[0m \u001b[0mself\u001b[0m\u001b[1;33m.\u001b[0m\u001b[0mpoints\u001b[0m\u001b[1;33m)\u001b[0m\u001b[1;33m\u001b[0m\u001b[1;33m\u001b[0m\u001b[0m\n\u001b[0m\u001b[0;32m     50\u001b[0m         \u001b[0my\u001b[0m \u001b[1;33m=\u001b[0m \u001b[0mstatistics\u001b[0m\u001b[1;33m.\u001b[0m\u001b[0mfmean\u001b[0m\u001b[1;33m(\u001b[0m\u001b[0mpt\u001b[0m\u001b[1;33m.\u001b[0m\u001b[0my\u001b[0m \u001b[1;32mfor\u001b[0m \u001b[0mpt\u001b[0m \u001b[1;32min\u001b[0m \u001b[0mself\u001b[0m\u001b[1;33m.\u001b[0m\u001b[0mpoints\u001b[0m\u001b[1;33m)\u001b[0m\u001b[1;33m\u001b[0m\u001b[1;33m\u001b[0m\u001b[0m\n\u001b[0;32m     51\u001b[0m         \u001b[0mself\u001b[0m\u001b[1;33m.\u001b[0m\u001b[0mcentroid\u001b[0m \u001b[1;33m=\u001b[0m \u001b[0mPoint\u001b[0m\u001b[1;33m(\u001b[0m\u001b[0mx\u001b[0m\u001b[1;33m,\u001b[0m \u001b[0my\u001b[0m\u001b[1;33m)\u001b[0m\u001b[1;33m\u001b[0m\u001b[1;33m\u001b[0m\u001b[0m\n",
      "\u001b[1;31mAttributeError\u001b[0m: module 'statistics' has no attribute 'fmean'"
     ]
    }
   ],
   "source": [
    "%%time\n",
    "aggregator1 = mpd.TrajectoryCollectionAggregator(\n",
    "    generalized1,\n",
    "    max_distance=1000,\n",
    "    min_distance=100,\n",
    "    min_stop_duration=datetime.timedelta(minutes=5),\n",
    ")\n",
    "aggregator2 = mpd.TrajectoryCollectionAggregator(\n",
    "    generalized2,\n",
    "    max_distance=1000,\n",
    "    min_distance=100,\n",
    "    min_stop_duration=datetime.timedelta(minutes=5),\n",
    ")"
   ]
  },
  {
   "cell_type": "markdown",
   "metadata": {},
   "source": [
    "### Radius of Gyration (N/A)"
   ]
  },
  {
   "cell_type": "markdown",
   "metadata": {},
   "source": [
    "### Distance straight line (N/A)"
   ]
  },
  {
   "cell_type": "markdown",
   "metadata": {},
   "source": [
    "### Stay Locations"
   ]
  },
  {
   "cell_type": "code",
   "execution_count": 12,
   "metadata": {},
   "outputs": [
    {
     "name": "stdout",
     "output_type": "stream",
     "text": [
      "Wall time: 997 µs\n"
     ]
    }
   ],
   "source": [
    "%%time\n",
    "detector1 = mpd.TrajectoryStopDetector(intas1)\n",
    "detector2 = mpd.TrajectoryStopDetector(intas2)"
   ]
  },
  {
   "cell_type": "code",
   "execution_count": 13,
   "metadata": {},
   "outputs": [],
   "source": [
    "from datetime import timedelta"
   ]
  },
  {
   "cell_type": "code",
   "execution_count": null,
   "metadata": {},
   "outputs": [],
   "source": [
    "%%time\n",
    "stop_points1 = detector1.get_stop_points(\n",
    "    min_duration=timedelta(seconds=60), max_diameter=100\n",
    ")\n",
    "stop_points2 = detector2.get_stop_points(\n",
    "    min_duration=timedelta(seconds=60), max_diameter=100\n",
    ")"
   ]
  },
  {
   "cell_type": "markdown",
   "metadata": {},
   "source": [
    "### Home e Work Classification (N/A)"
   ]
  },
  {
   "cell_type": "markdown",
   "metadata": {},
   "source": [
    "### Outliers Detection"
   ]
  },
  {
   "cell_type": "code",
   "execution_count": 15,
   "metadata": {},
   "outputs": [
    {
     "name": "stdout",
     "output_type": "stream",
     "text": [
      "Wall time: 1h 23min 10s\n"
     ]
    }
   ],
   "source": [
    "%%time\n",
    "clean1 = mpd.OutlierCleaner(intas1).clean(v_max=500, units=(\"km\", \"h\"))\n",
    "clean2 = mpd.OutlierCleaner(intas2).clean(v_max=500, units=(\"km\", \"h\"))"
   ]
  },
  {
   "cell_type": "markdown",
   "metadata": {},
   "source": [
    "### Spatial Projection"
   ]
  },
  {
   "cell_type": "code",
   "execution_count": null,
   "metadata": {},
   "outputs": [],
   "source": [
    "%%time\n",
    "plot1 = intas1.hvplot(\n",
    "    title=intas_title1,\n",
    "    rasterize=True,\n",
    "    dynspread=True,\n",
    "    colorbar=True,\n",
    "    cnorm=\"eq_hist\",\n",
    "    cmap=\"inferno\",\n",
    "    width=650,\n",
    "    height=500,\n",
    ")\n",
    "plot1 = intas2.hvplot(\n",
    "    title=intas_title1,\n",
    "    rasterize=True,\n",
    "    dynspread=True,\n",
    "    colorbar=True,\n",
    "    cnorm=\"eq_hist\",\n",
    "    cmap=\"inferno\",\n",
    "    width=650,\n",
    "    height=500,\n",
    ")"
   ]
  }
 ],
 "metadata": {
  "kernelspec": {
   "display_name": "movingpandas",
   "language": "python",
   "name": "python3"
  },
  "language_info": {
   "codemirror_mode": {
    "name": "ipython",
    "version": 3
   },
   "file_extension": ".py",
   "mimetype": "text/x-python",
   "name": "python",
   "nbconvert_exporter": "python",
   "pygments_lexer": "ipython3",
   "version": "3.7.12"
  }
 },
 "nbformat": 4,
 "nbformat_minor": 2
}
